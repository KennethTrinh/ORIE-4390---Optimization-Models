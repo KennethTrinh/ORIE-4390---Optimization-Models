{
  "nbformat": 4,
  "nbformat_minor": 0,
  "metadata": {
    "colab": {
      "provenance": [],
      "collapsed_sections": []
    },
    "kernelspec": {
      "name": "python3",
      "display_name": "Python 3"
    },
    "language_info": {
      "name": "python"
    },
    "gpuClass": "standard"
  },
  "cells": [
    {
      "cell_type": "markdown",
      "source": [
        "# Slab Stack Shuffling (SSS) Integer Linear Program"
      ],
      "metadata": {
        "id": "qbfSclADtmY5"
      }
    },
    {
      "cell_type": "markdown",
      "source": [
        "## Setup/environment configuration"
      ],
      "metadata": {
        "id": "gZ_CRao7tyw-"
      }
    },
    {
      "cell_type": "code",
      "execution_count": 2,
      "metadata": {
        "colab": {
          "base_uri": "https://localhost:8080/"
        },
        "id": "zcXnec3dwS3O",
        "outputId": "724cbc7b-0242-482a-f765-7b72632672f0"
      },
      "outputs": [
        {
          "output_type": "stream",
          "name": "stdout",
          "text": [
            "Looking in indexes: https://pypi.org/simple, https://us-python.pkg.dev/colab-wheels/public/simple/\n",
            "Collecting gurobipy\n",
            "  Downloading gurobipy-10.0.0-cp37-cp37m-manylinux2014_x86_64.whl (12.9 MB)\n",
            "\u001b[K     |████████████████████████████████| 12.9 MB 8.5 MB/s \n",
            "\u001b[?25hInstalling collected packages: gurobipy\n",
            "Successfully installed gurobipy-10.0.0\n"
          ]
        }
      ],
      "source": [
        "!pip install gurobipy"
      ]
    },
    {
      "cell_type": "code",
      "source": [
        "from google.colab import drive\n",
        "import os\n",
        "drive.mount('/content/drive', force_remount=True)\n",
        "os.chdir(os.path.join(os.getcwd(), 'drive','MyDrive', 'Colab Notebooks', 'gurobi'))"
      ],
      "metadata": {
        "colab": {
          "base_uri": "https://localhost:8080/"
        },
        "id": "CXsGsLrKwatA",
        "outputId": "677e7593-182e-49c4-ebbf-3a510a45ebda"
      },
      "execution_count": 3,
      "outputs": [
        {
          "output_type": "stream",
          "name": "stdout",
          "text": [
            "Mounted at /content/drive\n"
          ]
        }
      ]
    },
    {
      "cell_type": "code",
      "source": [
        "import gurobipy as gp\n",
        "from gurobipy import GRB\n",
        "with open('gurobi.lic', 'r') as f:\n",
        "    lic = f.readlines()\n",
        "\n",
        "WLSACCESSID = lic[-3].replace('\\n', '').replace('WLSACCESSID=', '')\n",
        "WLSSECRET = lic[-2].replace('\\n', '').replace('WLSSECRET=', '')\n",
        "LICENSEID = int( lic[-1].replace('\\n', '').replace('LICENSEID=', '') )\n",
        "\n",
        "e = gp.Env(empty=True)\n",
        "e.setParam('WLSACCESSID', WLSACCESSID)\n",
        "e.setParam('WLSSECRET', WLSSECRET)\n",
        "e.setParam('LICENSEID', LICENSEID)\n",
        "e.start()"
      ],
      "metadata": {
        "colab": {
          "base_uri": "https://localhost:8080/"
        },
        "id": "ibhxsUAuwlJV",
        "outputId": "f84489a2-0b8c-4ce7-fb77-9903cfd99577"
      },
      "execution_count": 4,
      "outputs": [
        {
          "output_type": "stream",
          "name": "stdout",
          "text": [
            "Set parameter WLSAccessID\n",
            "Set parameter WLSSecret\n",
            "Set parameter LicenseID to value 889498\n",
            "Academic license - for non-commercial use only - registered to klt45@cornell.edu\n"
          ]
        },
        {
          "output_type": "execute_result",
          "data": {
            "text/plain": [
              "<gurobipy.Env, Parameter changes: WLSAccessID=(user-defined), WLSSecret=(user-defined), LicenseID=889498>"
            ]
          },
          "metadata": {},
          "execution_count": 4
        }
      ]
    },
    {
      "cell_type": "markdown",
      "source": [
        "# Problem Statement\n",
        "\n",
        "Minimize the cost of producing all n products in numerical order (i.e. 1, 2, 3, ..., n) with the following inputs:\n",
        "*   $n$: number of products $i$ ranges from $1$ to $n$\n",
        "*   $m$:  number of slabs ranges from $1$ to $m$\n",
        "*   $S_i$: Schedule of slabs that product $i$ can be produced on where $i \\in \\{1, \\dots, n\\}$\n",
        "*   $r_j$: the stack number of slab $j$ where $j \\in \\{1, \\dots, m\\}$\n",
        "*   $t_j$: the number of slabs on top of slab $j$ where $j \\in \\{1, \\dots, m\\}$"
      ],
      "metadata": {
        "id": "2AtYFaGIvdo1"
      }
    },
    {
      "cell_type": "code",
      "source": [
        "from matplotlib.ticker import ScalarFormatter\n",
        "def generateInputs(num):\n",
        "    \"\"\"\n",
        "    n: number of products i ranges from 1 to n\n",
        "    m:  number of slabs ranges from 1 to m\n",
        "    Si: set of slabs that product i can be produced on \n",
        "    r: dictionary of the stack number of slab j\n",
        "    t: dictinoary of number of slabs on top of slab j\n",
        "    \"\"\"\n",
        "    if num == 0:\n",
        "        n = 3 # number of products i ranges from 1 to n\n",
        "        m = 8 # number of slabs ranges from 1 to m\n",
        "        S = {1: [2,3], 2: [5,6], 3: [7]} # Schedule of products\n",
        "        r = {1: 1, 2: 2, 3: 1, 4: 2, 5: 1, 6: 2, 7: 1, 8: 2} # stack number of slab j\n",
        "        t = {1: 0, 2: 0, 3: 1, 4: 1, 5: 2, 6: 2, 7: 3, 8: 3} # number of slabs on top of slab j\n",
        "    elif num == 1:\n",
        "        n = 2\n",
        "        m = 4\n",
        "        S = { 1: [1,3], 2: [2]}\n",
        "        r = { 1: 1, 2: 1, 3: 2, 4: 2}\n",
        "        t = { 1: 0, 2: 1, 3: 0, 4: 1}\n",
        "    elif num == 2:\n",
        "        n = 4\n",
        "        m = 9\n",
        "        S = {1: [7, 8], 2: [3, 4], 3: [7], 4: [9] }\n",
        "        r = {i: 1 for i in range(1, m+1)}\n",
        "        t = {i: i-1 for i in range(1, m+1)}\n",
        "    else:\n",
        "        df = pd.read_csv('Dataset_slab_stack.csv')\n",
        "        n = 75\n",
        "        m = 250\n",
        "        S = {row['Product_number']: row.iloc[1:].to_numpy() for index, row in df.iterrows()}\n",
        "        r = { range(1,61) : 1, range(61,161) : 2, range(161, 201) : 3, range(201, 251) : 4 }\n",
        "        r = {s: stackNum for slab, stackNum in r.items() for s in slab}\n",
        "        t = { range(1,61) , range(61,161) , range(161, 201) , range(201, 251)  }\n",
        "        t = {i: i-min(slab) for i in range(1,251) for slab in t if i in slab}\n",
        "        n = 50\n",
        "        S = {k:v for k,v in S.items() if k<=50}\n",
        "\n",
        "    return n, m, S, r, t"
      ],
      "metadata": {
        "id": "8q1V9J9Cx7Co"
      },
      "execution_count": 5,
      "outputs": []
    },
    {
      "cell_type": "markdown",
      "source": [
        "# Drafting a feasible Integer Linear Program\n",
        "\n",
        "$ x_{ij} = \\begin{cases} 1 & \\text{if slab } j \\text{ is used for product } i \\\\ 0 & \\text{else} \\end{cases} $\n",
        "\n",
        "\n",
        "1. Every product must be produced from exactly one slab\n",
        "    \n",
        "  $ \\sum_{j=1}^{m} x_{ij} = 1 \\quad \\forall i \\in \\{1, \\dots, n\\} $\n",
        "  \n",
        "2. Every slab can be used for at most one product\n",
        "    $ \\sum_{i=1}^{n} x_{ij} \\leq 1 \\quad \\forall j \\in \\{1, \\dots, m\\} $\n",
        "\n",
        "3. Every product must be produced on a slab that is in the set of slabs that it can be produced on\n",
        "    $ x_{ij} = 0 \\quad \\forall i \\in \\{1, \\dots, n\\}, j \\in \\{1, \\dots, m\\} \\quad \\text{such that} \\quad j \\notin S_i $\n",
        "\n",
        "<br>\n",
        "\n",
        "Let $C$ represent the cost of producing every product, not considering the deduction of previous $i-1$ products that have been created.\n",
        "\n",
        "<br> \n",
        "\n",
        "$ C = \\sum_{i=1}^{n} \\sum_{j=1}^{m} x_{ij} t_j $\n",
        "\n",
        "<br>\n",
        "\n",
        "Let $D$ represent the sum of deductions when slab $j$ is used for product $i$ due to the previous $i-1$ products that have been created.\n",
        "\n",
        "If slab $j$ is used for product $i$ and slab $l$ is used for product $k$, then we increment $D$ iff $r_j = r_l$ and $t_j < t_l$, which means that slab $j$ is in the same stack as slab $l$ and slab $j$ is above slab $l$.\n",
        "\n",
        "<br> \n",
        "$ D = \\sum_{i=1}^{n} \\sum_{j \\in S_i} \\sum_{k=i+1}^{n} \\sum_{l \\in S_k} x_{ij} x_{kl}  \\quad \\forall i,j,k,l \\in  \\{(i,j,k,l) |  i \\neq k, j \\neq l, r_j = r_l, t_j < t_l\\} $\n",
        "\n",
        "<br>\n",
        "\n",
        "Alas, this formulation is **quadratic**, so we need to introduce a binary variable $y_{ijkl}$ to represent whether slab $j$ is used for product $i$ and slab $l$ is used for product $k$.\n",
        "\n",
        "<br>\n",
        "\n",
        "$ y_{ijkl} = \\begin{cases} 1 & \\text{if slab $j$ is used for product $i$ and slab $l$ is used for product $k$} \\\\ 0 & \\text{otherwise} \\end{cases} $\n",
        "\n",
        "\n",
        "We want $y_{ijkl} = 1$ if and only if $x_{ij} = 1$ and $x_{kl} = 1$.\n",
        "\n",
        "This is equivalent to $x_{ij} \\wedge x_{kl}$ with the following truth table (non-linear): \n",
        "\n",
        "$\\begin{array}{|c|c|c|} \\hline x_{ij} & x_{kl} & y_{ijkl} \\\\ \\hline 0 & 0 & 0 \\\\ \\hline 0 & 1 & 0 \\\\ \\hline 1 & 0 & 0 \\\\ \\hline 1 & 1 & 1 \\\\ \\hline \\end{array}$\n",
        "\n",
        "To make this linear, we will enforce the following constraints:\n",
        "\n",
        "$ y_{ijkl} \\leq x_{ij} \\quad \\forall i,j,k,l $\n",
        "\n",
        "$ y_{ijkl} \\leq x_{kl} \\quad \\forall i,j,k,l $\n",
        "\n",
        "$ y_{ijkl} \\geq x_{ij} + x_{kl} - 1 \\quad \\forall i,j,k,l $\n",
        "\n",
        "$ D = \\sum_{i=1}^{n} \\sum_{j \\in S_i} \\sum_{k=i+1}^{n} \\sum_{l \\in S_k} y_{ijkl} \\quad \\forall i,j,k,l \\in \\{(i,j,k,l) | i \\neq k, j \\neq l, r_j = r_l, t_j < t_l\\} $\n",
        "\n",
        "The minimization problem is then to \n",
        "$\\min C - D$"
      ],
      "metadata": {
        "id": "87uaQJm2ubqE"
      }
    },
    {
      "cell_type": "markdown",
      "source": [
        "# Testing this formulation on feasible solutions\n",
        "\n",
        "If this formulation is indeed correct, then we should see **nothing** being printed other than C/D values, an $ x_{ij} $ table for the feasible solutions, and the word, YAY.\n",
        "\n",
        "We can also check that it works for the non-linear formulation by making the parameter `linear=False`"
      ],
      "metadata": {
        "id": "n9bJhqsZgf2e"
      }
    },
    {
      "cell_type": "code",
      "source": [
        "from itertools import product\n",
        "import pandas as pd\n",
        "import numpy as np\n",
        "\n",
        "\n",
        "def debug(n, m, S, r, t, gurobiSolution, linear):\n",
        "\n",
        "    # let x_ij = 1 if slab j is used for product i\n",
        "    # an optimal solution is: \n",
        "\n",
        "    # x_13 = 1, x_25 = 1, x_37 = 1\n",
        "\n",
        "    x = [ [0 for j in range(m)] for i in range(n) ]\n",
        "    x = pd.DataFrame( x, index = [f'Product {i}' for i in range(1, n+1)], columns = [f'Slab {j}' for j in range(1, m+1)] )\n",
        "\n",
        "    for i, j in gurobiSolution:\n",
        "        x.iloc[i-1, j-1] = 1\n",
        "\n",
        "    # every product must be produced from only one slab\n",
        "    # sum_j x_ij = 1 for all i\n",
        "    for i in range(1, n+1):\n",
        "        if sum(x.iloc[i-1][j-1] for j in range(1, m+1)) != 1:\n",
        "            print(f'Product {i} is not produced from only one slab')\n",
        "\n",
        "    # every slab can be used for at most one product\n",
        "    # sum_i x_ij <= 1 for all j\n",
        "    for j in range(1, m+1):\n",
        "        if sum(x.iloc[i-1, j-1] for i in range(1, n+1)) > 1:\n",
        "            print(f'Slab {j} is used for more than one product')\n",
        "    \n",
        "    # every product must be produced on a slab that is in the set of slabs that it can be produced on\n",
        "    # x_ij = 0 for all i, j such that j not in S_i\n",
        "    for i in range(1, n+1):\n",
        "        for j in range(1, m+1):\n",
        "            if j not in S[i] and x.iloc[i-1, j-1] != 0:\n",
        "                print(f'Product {i} is produced on slab {j} which is not in its set of slabs')\n",
        "\n",
        "\n",
        "    C = sum( x.iloc[i-1, j-1] * t[j] for i in range(1, n+1) for j in S[i] )\n",
        "\n",
        "    # Let D represent the sum of deductions when slab j is used for product i due to the previous i-1 products that have been created\n",
        "    # the calculation of D can be done either using quadratic or linear programming\n",
        "    if not linear:\n",
        "        D = 0\n",
        "        for i in range(1, n+1):\n",
        "            for j in S[i]:\n",
        "                for k in range(1, n+1):\n",
        "                    for l in S[k]:\n",
        "                        if (r[j] == r[l] and t[j] < t[l]):\n",
        "                            D += x.iloc[i-1, j-1] * x.iloc[k-1, l-1]\n",
        "\n",
        "    else:\n",
        "        # Let y_ijkm = 1 if slab j is used for product i and slab m is used for product k\n",
        "        y = [ [np.zeros((n,m)) for j in range(m) ] for i in range(n) ]\n",
        "        y = pd.DataFrame( y, index = [f'Product {i}' for i in range(1, n+1)], columns = [f'Slab {j}' for j in range(1, m+1)] )\n",
        "\n",
        "        for i in range(1, n+1):\n",
        "            for j in S[i]:\n",
        "                for k in range(i+1, n+1):\n",
        "                    for l in S[k]:\n",
        "                        if i!=k and j!=m and (r[j] == r[l] and t[j] < t[l]):\n",
        "                            y.iloc[i-1, j-1][k-1, l-1] = x.iloc[i-1, j-1] * x.iloc[k-1, l-1]\n",
        "\n",
        "        # y_ijkm <= x_ij for all i, j, k, m --> if slab j is not used for product i, then for all (k, m), slab m cannot be used for product k\n",
        "        # y_ijkm <= x_km for all i, j, k, m --> if slab k is not used for product m, then for all (i, j), slab j cannot be used for product i\n",
        "        # y_ijkm >= x_ij + x_km - 1 for all i, j, k, m --> the only way for slab j to be used for product i and slab m to be used for product k\n",
        "        # is if slab j is used for product i and slab m is used for product k\n",
        "        for i in range(1, n+1):\n",
        "            for j in S[i]:\n",
        "                for k in range(i+1, n+1):\n",
        "                    for l in S[k]:\n",
        "                        if i!=k and j!=l and (r[j] == r[l] and t[j] < t[l]):\n",
        "                            if y.iloc[i-1, j-1][k-1, l-1] > x.iloc[i-1, j-1]:\n",
        "                                print(f'Product {i} is not used for slab {j}, but slab {l} is used for product {k}')\n",
        "                            if y.iloc[i-1, j-1][k-1, l-1] > x.iloc[k-1, l-1]:\n",
        "                                print(f'Product {k} is not used for slab {l}, but slab {j} is used for product {i}')\n",
        "                            if y.iloc[i-1, j-1][k-1, l-1] < x.iloc[i-1, j-1] + x.iloc[k-1, l-1] - 1:\n",
        "                                print('i =', i, 'j =', j, 'k =', k, 'l =', l)\n",
        "                                print('x_ij =', x.iloc[i-1, j-1], 'x_kl =', x.iloc[k-1, l-1], 'y_ijkl =', y.iloc[i-1, j-1][k-1, l-1])\n",
        "                                print()\n",
        "\n",
        "        D = 0\n",
        "        for i in range(1, n+1):\n",
        "            for j in S[i]:\n",
        "                for k in range(i+1, n+1):\n",
        "                    for l in S[k]:\n",
        "                        if i!=k and j!=m and (r[j] == r[l] and t[j] < t[l]):\n",
        "                            D += y.iloc[i-1,j-1][k-1,l-1]\n",
        "\n",
        "    print('C=', C, ' ', 'D=', D, ' ', '(C - D)=', C - D)\n",
        "    if (C - D == 4 and C == 5 and D == 1) or \\\n",
        "       (C - D == 3 and C == 6 and D == 3) or \\\n",
        "       (C - D == 0 and C == 1 and D == 1):\n",
        "        print(x)\n",
        "        print('YAY')\n",
        "\n",
        "debug(*generateInputs(0), gurobiSolution= [ (1, 3), (2, 5), (3, 7) ], linear=True)\n",
        "print()\n",
        "debug(*generateInputs(0), gurobiSolution= [(1,2),(2,6),(3,7)], linear=True)\n",
        "print()\n",
        "debug(*generateInputs(1), gurobiSolution= [ (1,1), (2,2) ] , linear=True)"
      ],
      "metadata": {
        "colab": {
          "base_uri": "https://localhost:8080/"
        },
        "id": "1S4G6Ht_wtiD",
        "outputId": "f5c040d5-590f-425d-fc5f-ca6dd45121dc"
      },
      "execution_count": 6,
      "outputs": [
        {
          "output_type": "stream",
          "name": "stdout",
          "text": [
            "C= 6   D= 3.0   (C - D)= 3.0\n",
            "           Slab 1  Slab 2  Slab 3  Slab 4  Slab 5  Slab 6  Slab 7  Slab 8\n",
            "Product 1       0       0       1       0       0       0       0       0\n",
            "Product 2       0       0       0       0       1       0       0       0\n",
            "Product 3       0       0       0       0       0       0       1       0\n",
            "YAY\n",
            "\n",
            "C= 5   D= 1.0   (C - D)= 4.0\n",
            "           Slab 1  Slab 2  Slab 3  Slab 4  Slab 5  Slab 6  Slab 7  Slab 8\n",
            "Product 1       0       1       0       0       0       0       0       0\n",
            "Product 2       0       0       0       0       0       1       0       0\n",
            "Product 3       0       0       0       0       0       0       1       0\n",
            "YAY\n",
            "\n",
            "C= 1   D= 1.0   (C - D)= 0.0\n",
            "           Slab 1  Slab 2  Slab 3  Slab 4\n",
            "Product 1       1       0       0       0\n",
            "Product 2       0       1       0       0\n",
            "YAY\n"
          ]
        }
      ]
    },
    {
      "cell_type": "markdown",
      "source": [
        "# Now let's check the actual implementation\n",
        "\n",
        "Note: gurobi will optimize the model even if `linear` is set to `False` since gurobi supports quadratic programming.  The goal of this assignment was to replicate the quadratic formulation on calculating $D$ using linear constraints."
      ],
      "metadata": {
        "id": "JwjykaTnihGI"
      }
    },
    {
      "cell_type": "code",
      "source": [
        "def SSS(n, m, S, r, t, linear):\n",
        "    model = gp.Model(env=e)\n",
        "    model.Params.LogToConsole = 1\n",
        "    model.Params.OutputFlag = 1\n",
        "    x = model.addVars( list(product(range(1, n+1), range(1, m+1))), vtype = GRB.BINARY, name = 'x' )\n",
        "\n",
        "    # 1. every product must be produced from exactly one slab\n",
        "    # sum_j x_ij = 1 for all i\n",
        "    for i in range(1, n+1):\n",
        "        model.addConstr( gp.quicksum( x[i,j] for j in range(1, m+1) ) == 1 )\n",
        "\n",
        "    # 2. every slab can be used for at most one product\n",
        "    # sum_i x_ij <= 1 for all j\n",
        "    for j in range(1, m+1):\n",
        "        model.addConstr( gp.quicksum( x[i,j] for i in range(1, n+1) ) <= 1 )\n",
        "\n",
        "    # 3. every product must be produced on a slab that is in the set of slabs that it can be produced on\n",
        "    # x_ij = 0 for all i, j such that j not in S_i\n",
        "    for i in range(1, n+1):\n",
        "        for j in range(1, m+1):\n",
        "            if j not in S[i]:\n",
        "                model.addConstr( x[i,j] == 0 )\n",
        "\n",
        "    # Let C represent the cost of producing every product, not considering the deduction of previous i-1 products that have been created\n",
        "    # C = sum_i sum_j x_ij * t_j for all i, j\n",
        "    C = gp.quicksum( x[i, j] * t[j] for i in range(1, n+1) for j in range(1, m+1) )\n",
        "\n",
        "    if not linear:\n",
        "        D = 0\n",
        "        for i in range(1, n+1):\n",
        "            for j in S[i]:\n",
        "                for k in range(i+1, n+1):\n",
        "                    for l in S[k]:\n",
        "                        if (r[j] == r[l] and t[j] < t[l]) and (i != k) and (j != l):\n",
        "                            D += x[i,j] * x[k,l]\n",
        "    else:\n",
        "        # y_ijkl <= x_ij for all i, j, k, l --> if slab j is not used for product i, then for all (k, l), slab l cannot be used for product k\n",
        "        # y_ijkl <= x_kl for all i, j, k, l --> if slab k is not used for product l, then for all (i, j), slab j cannot be used for product i\n",
        "        # y_ijkl >= x_ij + x_kl - 1 for all i, j, k, l --> the only way for slab j to be used for product i and slab l to be used for product k\n",
        "        y = model.addVars( list(product(range(1, n+1), range(1, m+1), range(1, n+1), range(1, m+1))), vtype = GRB.BINARY, name = 'y' )\n",
        "        for i in range(1, n+1):\n",
        "            for j in S[i]:\n",
        "                for k in range(i+1, n+1):\n",
        "                    for l in S[k]:\n",
        "                        if i!= k and j != l:\n",
        "                            model.addConstr( y[i,j,k,l] <= x[i,j] )\n",
        "                            model.addConstr( y[i,j,k,l] <= x[k,l] )\n",
        "                            model.addConstr( y[i,j,k,l] >= x[i,j] + x[k,l] - 1 )\n",
        "        D = 0\n",
        "        for i in range(1, n+1):\n",
        "            for j in S[i]:\n",
        "                for k in range(i+1, n+1):\n",
        "                    for l in S[k]:\n",
        "                        if (r[j] == r[l] and t[j] < t[l]) and i!= k and j != m:\n",
        "                            D += y[i,j,k,l]\n",
        "\n",
        "\n",
        "    model.setObjective( C - D, GRB.MINIMIZE )\n",
        "\n",
        "    model.optimize()\n",
        "\n",
        "    print('Optimal value:', model.objVal)\n",
        "\n",
        "    for v in model.getVars():\n",
        "        if v.x > 0:\n",
        "            print(v.varName, '=', v.x)"
      ],
      "metadata": {
        "id": "8WNvEvf9h7Vu"
      },
      "execution_count": 7,
      "outputs": []
    },
    {
      "cell_type": "markdown",
      "source": [
        "## Let's add a tool to help us visualize our examples, so we can verify the correctness of our solution"
      ],
      "metadata": {
        "id": "-tPaXBMejDz5"
      }
    },
    {
      "cell_type": "code",
      "source": [
        "import matplotlib.pyplot as plt\n",
        "from matplotlib.patches import Rectangle\n",
        "\n",
        "def plot(stacks):\n",
        "    def label(ax, rect, text):\n",
        "        rx, ry = rect.get_xy()\n",
        "        cx = rx + rect.get_width()/2.0\n",
        "        cy = ry + rect.get_height()/2.0\n",
        "        ax.annotate(text, (cx, cy), color='black', weight='bold', fontsize=10, ha='center', va='center')\n",
        "\n",
        "    def stack(ax, x_start, bottom_to_top_list):\n",
        "        rectangles = [ Rectangle((x_start, i),1,1, edgecolor='r', facecolor='b') \\\n",
        "                        for i, slab in enumerate(bottom_to_top_list) ]\n",
        "        for rect, slab in zip(rectangles, bottom_to_top_list):\n",
        "            ax.add_patch(rect)\n",
        "            label(ax, rect, slab)\n",
        "    fig, ax = plt.subplots()\n",
        "    ax.set_xlim(0, 2*len(stacks))\n",
        "    ax.set_ylim(0, 10)\n",
        "    for i, s in enumerate(stacks):\n",
        "        stack(ax, 2*i + 0.5, s)\n",
        "\n",
        "    plt.show()"
      ],
      "metadata": {
        "id": "1LrMCp_-iUKu"
      },
      "execution_count": 8,
      "outputs": []
    },
    {
      "cell_type": "markdown",
      "source": [
        "# First test case\n",
        "For the following inputs, want to check that greedy algorithm doesn't always produce the best solution, because we could greedily choose 2, 6, and 7 with a total cost of 4, but an even better solution is 3, 5, 7 for a total cost of 3.\n",
        "\n",
        "$ n = 3 $ \n",
        "\n",
        "$ m = 8 $\n",
        "\n",
        "$ S = \\{1: [2,3], 2: [5,6], 3: [7]\\} $\n",
        "\n",
        "and the following stacks:"
      ],
      "metadata": {
        "id": "hXTGM-ODjNoO"
      }
    },
    {
      "cell_type": "code",
      "source": [
        "plot([ [7, 5, 3, 1], [8, 6, 4, 2] ])"
      ],
      "metadata": {
        "colab": {
          "base_uri": "https://localhost:8080/",
          "height": 269
        },
        "id": "D8bdVoASjiAZ",
        "outputId": "c7506c6c-cd53-4566-bccb-851292c8c84c"
      },
      "execution_count": 9,
      "outputs": [
        {
          "output_type": "display_data",
          "data": {
            "text/plain": [
              "<Figure size 432x288 with 1 Axes>"
            ],
            "image/png": "[encoded data removed]"
          },
          "metadata": {
            "needs_background": "light"
          }
        }
      ]
    },
    {
      "cell_type": "code",
      "source": [
        "SSS(*generateInputs(0), linear = True)"
      ],
      "metadata": {
        "colab": {
          "base_uri": "https://localhost:8080/"
        },
        "id": "dlHK-ty7ju04",
        "outputId": "683b2bb8-16c4-4a22-8ba9-dae9196577e3"
      },
      "execution_count": 10,
      "outputs": [
        {
          "output_type": "stream",
          "name": "stdout",
          "text": [
            "Gurobi Optimizer version 10.0.0 build v10.0.0rc2 (linux64)\n",
            "\n",
            "CPU model: Intel(R) Xeon(R) CPU @ 2.20GHz, instruction set [SSE2|AVX|AVX2]\n",
            "Thread count: 1 physical cores, 2 logical processors, using up to 2 threads\n",
            "\n",
            "Academic license - for non-commercial use only - registered to klt45@cornell.edu\n",
            "Optimize a model with 54 rows, 600 columns and 123 nonzeros\n",
            "Model fingerprint: 0x7d115ad6\n",
            "Variable types: 0 continuous, 600 integer (600 binary)\n",
            "Coefficient statistics:\n",
            "  Matrix range     [1e+00, 1e+00]\n",
            "  Objective range  [1e+00, 3e+00]\n",
            "  Bounds range     [1e+00, 1e+00]\n",
            "  RHS range        [1e+00, 1e+00]\n",
            "Found heuristic solution: objective 3.0000000\n",
            "Presolve removed 54 rows and 600 columns\n",
            "Presolve time: 0.00s\n",
            "Presolve: All rows and columns removed\n",
            "\n",
            "Explored 0 nodes (0 simplex iterations) in 0.02 seconds (0.00 work units)\n",
            "Thread count was 1 (of 2 available processors)\n",
            "\n",
            "Solution count 1: 3 \n",
            "\n",
            "Optimal solution found (tolerance 1.00e-04)\n",
            "Best objective 3.000000000000e+00, best bound 3.000000000000e+00, gap 0.0000%\n",
            "Optimal value: 3.0\n",
            "x[1,3] = 1.0\n",
            "x[2,5] = 1.0\n",
            "x[3,7] = 1.0\n",
            "y[1,3,2,5] = 1.0\n",
            "y[1,3,3,7] = 1.0\n",
            "y[2,5,3,7] = 1.0\n"
          ]
        }
      ]
    },
    {
      "cell_type": "markdown",
      "source": [
        "# Second test case\n",
        "\n",
        "Let's verify the example from class where we get a zero objective.\n",
        "\n",
        "$ n = 2 $ \n",
        "\n",
        "$ m = 4 $\n",
        "\n",
        "$ S = \\{ \\{1,3\\}, \\{2\\} \\} $"
      ],
      "metadata": {
        "id": "sBqraIOTkagK"
      }
    },
    {
      "cell_type": "code",
      "source": [
        "plot( [ [2,1] , [4,3] ] )"
      ],
      "metadata": {
        "colab": {
          "base_uri": "https://localhost:8080/",
          "height": 269
        },
        "id": "u70tPbOLkvbK",
        "outputId": "9b285c20-81d9-45c7-cd7c-d5200d62ac57"
      },
      "execution_count": 11,
      "outputs": [
        {
          "output_type": "display_data",
          "data": {
            "text/plain": [
              "<Figure size 432x288 with 1 Axes>"
            ],
            "image/png": "[encoded data removed]"
          },
          "metadata": {
            "needs_background": "light"
          }
        }
      ]
    },
    {
      "cell_type": "code",
      "source": [
        "SSS(*generateInputs(1), linear = True)"
      ],
      "metadata": {
        "colab": {
          "base_uri": "https://localhost:8080/"
        },
        "id": "QDUtALRekyfD",
        "outputId": "14f32dbf-ded8-437b-ff2a-e8405c934c5a"
      },
      "execution_count": 12,
      "outputs": [
        {
          "output_type": "stream",
          "name": "stdout",
          "text": [
            "Gurobi Optimizer version 10.0.0 build v10.0.0rc2 (linux64)\n",
            "\n",
            "CPU model: Intel(R) Xeon(R) CPU @ 2.20GHz, instruction set [SSE2|AVX|AVX2]\n",
            "Thread count: 1 physical cores, 2 logical processors, using up to 2 threads\n",
            "\n",
            "Academic license - for non-commercial use only - registered to klt45@cornell.edu\n",
            "Optimize a model with 17 rows, 72 columns and 35 nonzeros\n",
            "Model fingerprint: 0x87dde586\n",
            "Variable types: 0 continuous, 72 integer (72 binary)\n",
            "Coefficient statistics:\n",
            "  Matrix range     [1e+00, 1e+00]\n",
            "  Objective range  [1e+00, 1e+00]\n",
            "  Bounds range     [1e+00, 1e+00]\n",
            "  RHS range        [1e+00, 1e+00]\n",
            "Found heuristic solution: objective 1.0000000\n",
            "Presolve removed 17 rows and 72 columns\n",
            "Presolve time: 0.00s\n",
            "Presolve: All rows and columns removed\n",
            "\n",
            "Explored 0 nodes (0 simplex iterations) in 0.02 seconds (0.00 work units)\n",
            "Thread count was 1 (of 2 available processors)\n",
            "\n",
            "Solution count 2: 0 1 \n",
            "\n",
            "Optimal solution found (tolerance 1.00e-04)\n",
            "Best objective 0.000000000000e+00, best bound 0.000000000000e+00, gap 0.0000%\n",
            "Optimal value: 0.0\n",
            "x[1,1] = 1.0\n",
            "x[2,2] = 1.0\n",
            "y[1,1,2,2] = 1.0\n"
          ]
        }
      ]
    },
    {
      "cell_type": "markdown",
      "source": [
        "# Third test case\n",
        "\n",
        "Let's verify that our calculation for the deduction $D$ is correct with one stack only. The optimal solution is slab 8 (cost of 7), slab 3 (cost of 2), slab 7 (cost of 5), slab 9 (cost of 5) for a total cost of 19.\n",
        "\n",
        "\n",
        "$ n = 4 $\n",
        "\n",
        "$ m = 9 $\n",
        "\n",
        "$ S = \\{ \\{7,8\\}, \\{3,4\\}, \\{7\\}, \\{9\\} \\} $\n"
      ],
      "metadata": {
        "id": "uoepLlDhk3OV"
      }
    },
    {
      "cell_type": "code",
      "source": [
        "plot( [list(range(9, 0, -1))] )"
      ],
      "metadata": {
        "colab": {
          "base_uri": "https://localhost:8080/",
          "height": 269
        },
        "id": "X3uvJ79GlH-b",
        "outputId": "e0f315e2-d5c6-422c-ac98-03244f4459a0"
      },
      "execution_count": 13,
      "outputs": [
        {
          "output_type": "display_data",
          "data": {
            "text/plain": [
              "<Figure size 432x288 with 1 Axes>"
            ],
            "image/png": "[encoded data removed]"
          },
          "metadata": {
            "needs_background": "light"
          }
        }
      ]
    },
    {
      "cell_type": "code",
      "source": [
        "SSS(*generateInputs(2), linear = True)"
      ],
      "metadata": {
        "colab": {
          "base_uri": "https://localhost:8080/"
        },
        "id": "vR_faKZolVZf",
        "outputId": "2fb0a962-36c9-4b55-cfde-15347828af5c"
      },
      "execution_count": 14,
      "outputs": [
        {
          "output_type": "stream",
          "name": "stdout",
          "text": [
            "Gurobi Optimizer version 10.0.0 build v10.0.0rc2 (linux64)\n",
            "\n",
            "CPU model: Intel(R) Xeon(R) CPU @ 2.20GHz, instruction set [SSE2|AVX|AVX2]\n",
            "Thread count: 1 physical cores, 2 logical processors, using up to 2 threads\n",
            "\n",
            "Academic license - for non-commercial use only - registered to klt45@cornell.edu\n",
            "Optimize a model with 79 rows, 1332 columns and 186 nonzeros\n",
            "Model fingerprint: 0x7dbf9915\n",
            "Variable types: 0 continuous, 1332 integer (1332 binary)\n",
            "Coefficient statistics:\n",
            "  Matrix range     [1e+00, 1e+00]\n",
            "  Objective range  [1e+00, 8e+00]\n",
            "  Bounds range     [1e+00, 1e+00]\n",
            "  RHS range        [1e+00, 1e+00]\n",
            "Found heuristic solution: objective 19.0000000\n",
            "Presolve removed 79 rows and 1332 columns\n",
            "Presolve time: 0.00s\n",
            "Presolve: All rows and columns removed\n",
            "\n",
            "Explored 0 nodes (0 simplex iterations) in 0.06 seconds (0.00 work units)\n",
            "Thread count was 1 (of 2 available processors)\n",
            "\n",
            "Solution count 1: 19 \n",
            "\n",
            "Optimal solution found (tolerance 1.00e-04)\n",
            "Best objective 1.900000000000e+01, best bound 1.900000000000e+01, gap 0.0000%\n",
            "Optimal value: 19.0\n",
            "x[1,8] = 1.0\n",
            "x[2,3] = 1.0\n",
            "x[3,7] = 1.0\n",
            "x[4,9] = 1.0\n",
            "y[1,8,2,3] = 1.0\n",
            "y[1,8,3,7] = 1.0\n",
            "y[1,8,4,9] = 1.0\n",
            "y[2,3,3,7] = 1.0\n",
            "y[2,3,4,9] = 1.0\n",
            "y[3,7,4,9] = 1.0\n"
          ]
        }
      ]
    },
    {
      "cell_type": "markdown",
      "source": [
        "# Optimal objective: 207 (ran for 6 hours and still didn't finish)\n",
        "\n",
        "Sadly, the **linear formulation** blows out my RAM due to the 4-D decision variable $y_{ijkl}$ , but the **quadratic formulation** obtains the same objective as Professor Frans <3 \n"
      ],
      "metadata": {
        "id": "fU33yut2zPTm"
      }
    },
    {
      "cell_type": "code",
      "source": [
        "from PIL import Image\n",
        "img = Image.open('dad.png')\n",
        "fig, ax = plt.subplots()\n",
        "ax.imshow(img)\n",
        "t = np.linspace(0, 2*np.pi, 100)\n",
        "x = -10*(16*np.sin(t)**3) + 280\n",
        "y= -10*(13*np.cos(t)-5*np.cos(2*t)-2*np.cos(3*t)-np.cos(4*t)) + 250\n",
        "ax.plot(x, y, color='r')\n",
        "plt.show()"
      ],
      "metadata": {
        "colab": {
          "base_uri": "https://localhost:8080/",
          "height": 269
        },
        "id": "UN3d2tnCmFib",
        "outputId": "7395013b-22bf-4eea-8c01-dfa5e7a37c9f"
      },
      "execution_count": 15,
      "outputs": [
        {
          "output_type": "display_data",
          "data": {
            "text/plain": [
              "<Figure size 432x288 with 1 Axes>"
            ],
            "image/png": "[encoded data removed]"
          },
          "metadata": {
            "needs_background": "light"
          }
        }
      ]
    },
    {
      "cell_type": "code",
      "source": [
        "SSS(*generateInputs(3), linear = False)"
      ],
      "metadata": {
        "colab": {
          "base_uri": "https://localhost:8080/"
        },
        "id": "FZGR-ITbycMO",
        "outputId": "498a72f4-ce7b-48f0-d2c8-bde606ea7484"
      },
      "execution_count": 16,
      "outputs": [
        {
          "output_type": "stream",
          "name": "stdout",
          "text": [
            "Gurobi Optimizer version 10.0.0 build v10.0.0rc2 (linux64)\n",
            "\n",
            "CPU model: Intel(R) Xeon(R) CPU @ 2.20GHz, instruction set [SSE2|AVX|AVX2]\n",
            "Thread count: 1 physical cores, 2 logical processors, using up to 2 threads\n",
            "\n",
            "Academic license - for non-commercial use only - registered to klt45@cornell.edu\n",
            "Optimize a model with 12305 rows, 12500 columns and 37005 nonzeros\n",
            "Model fingerprint: 0x5bd76de1\n",
            "Model has 17115 quadratic objective terms\n",
            "Variable types: 0 continuous, 12500 integer (12500 binary)\n",
            "Coefficient statistics:\n",
            "  Matrix range     [1e+00, 1e+00]\n",
            "  Objective range  [1e+00, 1e+02]\n",
            "  QObjective range [2e+00, 8e+00]\n",
            "  Bounds range     [1e+00, 1e+00]\n",
            "  RHS range        [1e+00, 1e+00]\n",
            "Found heuristic solution: objective 1595.0000000\n",
            "Presolve removed 12105 rows and 12005 columns\n",
            "Presolve time: 0.73s\n",
            "Presolved: 200 rows, 495 columns, 917 nonzeros\n",
            "Presolved model has 17609 quadratic objective terms\n",
            "Variable types: 0 continuous, 495 integer (495 binary)\n",
            "Found heuristic solution: objective 419.0000000\n",
            "\n",
            "Root relaxation: objective -8.254469e+02, 349 iterations, 0.06 seconds (0.03 work units)\n",
            "\n",
            "    Nodes    |    Current Node    |     Objective Bounds      |     Work\n",
            " Expl Unexpl |  Obj  Depth IntInf | Incumbent    BestBd   Gap | It/Node Time\n",
            "\n",
            "     0     0 -825.44687    0  269  419.00000 -825.44687   297%     -    0s\n",
            "H    0     0                     326.0000000 -825.44687   353%     -    0s\n",
            "H    0     0                     311.0000000 -825.44687   365%     -    0s\n",
            "H    0     0                     305.0000000 -825.44687   371%     -    0s\n",
            "     0     0 -825.44687    0  269  305.00000 -825.44687   371%     -    0s\n",
            "H    0     0                     228.0000000 -825.44687   462%     -    1s\n",
            "     0     2 -804.92771    0  269  228.00000 -804.92771   453%     -    1s\n",
            "H  312   302                     225.0000000 -768.32903   441%   5.5    3s\n",
            "H  364   353                     223.0000000 -768.32903   445%   5.4    3s\n",
            "   483   466 -134.42669   66  209  223.00000 -760.81103   441%   5.5    5s\n",
            "H  801   650                     219.0000000 -751.00562   443%   6.5    9s\n",
            "   828   670 -316.37405   51  237  219.00000 -751.00562   443%   6.6   10s\n",
            "  1438  1026 -267.89194   60  233  219.00000 -729.16828   433%   6.7   15s\n",
            "H 1975  1384                     218.0000000 -728.95488   434%   6.4   17s\n",
            "H 2331  1693                     209.0000000 -720.93271   445%   6.4   18s\n",
            "  2692  2010 -696.44042   17  259  209.00000 -710.04725   440%   6.3   20s\n",
            "H 3446  2699                     207.0000000 -694.66591   436%   6.2   22s\n",
            "  4016  3217 -291.75386   61  254  207.00000 -679.80447   428%   6.2   25s\n",
            "  5539  4573 -289.67105   49  230  207.00000 -668.87319   423%   6.1   30s\n",
            "  7033  5928 -151.23507   69  224  207.00000 -662.18713   420%   6.0   35s\n",
            "  8644  7334 -336.01102   41  230  207.00000 -651.59618   415%   5.9   40s\n",
            " 10118  8652   31.52271   99  229  207.00000 -648.50190   413%   5.9   45s\n",
            "\n",
            "Explored 10202 nodes (60195 simplex iterations) in 46.00 seconds (20.12 work units)\n",
            "Thread count was 2 (of 2 available processors)\n",
            "\n",
            "Solution count 10: 207 209 218 ... 326\n",
            "\n",
            "Solve interrupted\n",
            "Best objective 2.070000000000e+02, best bound -6.480000000000e+02, gap 413.0435%\n",
            "Optimal value: 207.0\n",
            "x[1,223] = 1.0\n",
            "x[2,71] = 1.0\n",
            "x[3,16] = 1.0\n",
            "x[4,165] = 1.0\n",
            "x[5,202] = 1.0\n",
            "x[6,70] = 1.0\n",
            "x[7,206] = 1.0\n",
            "x[8,61] = 1.0\n",
            "x[9,14] = 1.0\n",
            "x[10,170] = 1.0\n",
            "x[11,9] = 1.0\n",
            "x[12,161] = 1.0\n",
            "x[13,13] = 1.0\n",
            "x[14,166] = 1.0\n",
            "x[15,162] = 1.0\n",
            "x[16,4] = 1.0\n",
            "x[17,201] = 1.0\n",
            "x[18,62] = 1.0\n",
            "x[19,64] = 1.0\n",
            "x[20,63] = 1.0\n",
            "x[21,203] = 1.0\n",
            "x[22,174] = 1.0\n",
            "x[23,1] = 1.0\n",
            "x[24,76] = 1.0\n",
            "x[25,67] = 1.0\n",
            "x[26,173] = 1.0\n",
            "x[27,77] = 1.0\n",
            "x[28,68] = 1.0\n",
            "x[29,204] = 1.0\n",
            "x[30,3] = 1.0\n",
            "x[31,75] = 1.0\n",
            "x[32,78] = 1.0\n",
            "x[33,205] = 1.0\n",
            "x[34,171] = 1.0\n",
            "x[35,2] = 1.0\n",
            "x[36,167] = 1.0\n",
            "x[37,73] = 1.0\n",
            "x[38,209] = 1.0\n",
            "x[39,74] = 1.0\n",
            "x[40,169] = 1.0\n",
            "x[41,163] = 1.0\n",
            "x[42,175] = 1.0\n",
            "x[43,207] = 1.0\n",
            "x[44,69] = 1.0\n",
            "x[45,176] = 1.0\n",
            "x[46,216] = 1.0\n",
            "x[47,95] = 1.0\n",
            "x[48,213] = 1.0\n",
            "x[49,211] = 1.0\n",
            "x[50,210] = 1.0\n"
          ]
        }
      ]
    }
  ]
}