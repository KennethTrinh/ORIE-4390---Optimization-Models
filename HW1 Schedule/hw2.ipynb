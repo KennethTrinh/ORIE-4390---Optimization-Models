{
 "cells": [
  {
   "cell_type": "code",
   "execution_count": 2,
   "metadata": {
    "colab": {
     "base_uri": "https://localhost:8080/"
    },
    "id": "VrOwXxxFguhk",
    "outputId": "7a75da50-c44e-4ed3-eb7b-a4528b6e880a"
   },
   "outputs": [
    {
     "name": "stdout",
     "output_type": "stream",
     "text": [
      "Looking in indexes: https://pypi.org/simple, https://us-python.pkg.dev/colab-wheels/public/simple/\n",
      "Requirement already satisfied: gurobipy in /usr/local/lib/python3.7/dist-packages (9.5.2)\n"
     ]
    }
   ],
   "source": [
    "!pip install gurobipy"
   ]
  },
  {
   "cell_type": "code",
   "execution_count": 3,
   "metadata": {
    "colab": {
     "base_uri": "https://localhost:8080/"
    },
    "id": "YkEHS8A_hL0n",
    "outputId": "6db3be1c-d68a-41ad-e349-33cebe072237"
   },
   "outputs": [
    {
     "name": "stdout",
     "output_type": "stream",
     "text": [
      "Mounted at /content/drive\n"
     ]
    }
   ],
   "source": [
    "from google.colab import drive\n",
    "import os\n",
    "drive.mount('/content/drive', force_remount=True)\n",
    "os.chdir(os.path.join(os.getcwd(), 'drive','MyDrive', 'Colab Notebooks', 'gurobi'))"
   ]
  },
  {
   "cell_type": "code",
   "execution_count": 4,
   "metadata": {
    "colab": {
     "base_uri": "https://localhost:8080/"
    },
    "id": "mFK4GCcBj1Ag",
    "outputId": "fcc80393-1121-4f50-cd43-1f652d7e78ef"
   },
   "outputs": [
    {
     "name": "stdout",
     "output_type": "stream",
     "text": [
      "Set parameter WLSAccessID\n",
      "Set parameter WLSSecret\n",
      "Set parameter LicenseID\n",
      "Academic license - for non-commercial use only - registered to klt45@cornell.edu\n"
     ]
    },
    {
     "data": {
      "text/plain": [
       "<gurobipy.Env, Parameter changes: WLSAccessID=(user-defined), WLSSecret=(user-defined), LicenseID=(user-defined)>"
      ]
     },
     "execution_count": 4,
     "metadata": {},
     "output_type": "execute_result"
    }
   ],
   "source": [
    "# !chmod 755 gurobi/grbgetkey\n",
    "# !gurobi/grbgetkey ac8a9496-5310-11ed-994f-0242ac120002\n",
    "import gurobipy as gp\n",
    "with open('gurobi.lic', 'r') as f:\n",
    "    lic = f.readlines()\n",
    "\n",
    "WLSACCESSID = lic[-3].replace('\\n', '').replace('WLSACCESSID=', '')\n",
    "WLSSECRET = lic[-2].replace('\\n', '').replace('WLSSECRET=', '')\n",
    "LICENSEID = int( lic[-1].replace('\\n', '').replace('LICENSEID=', '') )\n",
    "\n",
    "e = gp.Env(empty=True)\n",
    "e.setParam('WLSACCESSID', WLSACCESSID)\n",
    "e.setParam('WLSSECRET', WLSSECRET)\n",
    "e.setParam('LICENSEID', LICENSEID)\n",
    "e.start()"
   ]
  },
  {
   "cell_type": "markdown",
   "metadata": {
    "id": "e8arlV7hz_M9"
   },
   "source": [
    "The following code cells illustrate how I came up with valid constraints based on the decision variable:\n",
    "\n",
    "\n",
    "$$ X_{ait} = \\begin{cases} 1 & \\text{if job a is assigned to machine i at time t} \\\\ 0 & \\text{otherwise} \\end{cases}\n",
    "\\\\ a \\in \\{1, 2, \\dots, n\\}, i \\in \\{1, 2, \\dots, m\\}, t \\in \\{0, 1, \\dots, T\\} $$\n",
    "\n",
    "\n",
    "\n",
    "Note that as discussed in class, this formulation may be computationally expensive, as it will require $$  m \\cdot n \\cdot T $$ variables.  Nonetheless, I wanted to devise a working solution before experimenting with other formulations.  To come up with my constraints, I verified them against the feasible scheduling example in class where\n",
    "$$ m = 3, n = 7, T = 21 $$"
   ]
  },
  {
   "cell_type": "code",
   "execution_count": 5,
   "metadata": {
    "colab": {
     "base_uri": "https://localhost:8080/",
     "height": 261
    },
    "id": "yu-kJJMyt3i0",
    "outputId": "5c9a139a-c4da-4d86-d791-8694df875348"
   },
   "outputs": [
    {
     "data": {
      "text/html": [
       "\n",
       "  <div id=\"df-13aed3f2-c766-493b-9476-8561e8579d8d\">\n",
       "    <div class=\"colab-df-container\">\n",
       "      <div>\n",
       "<style scoped>\n",
       "    .dataframe tbody tr th:only-of-type {\n",
       "        vertical-align: middle;\n",
       "    }\n",
       "\n",
       "    .dataframe tbody tr th {\n",
       "        vertical-align: top;\n",
       "    }\n",
       "\n",
       "    .dataframe thead th {\n",
       "        text-align: right;\n",
       "    }\n",
       "</style>\n",
       "<table border=\"1\" class=\"dataframe\">\n",
       "  <thead>\n",
       "    <tr style=\"text-align: right;\">\n",
       "      <th></th>\n",
       "      <th>Machine 1</th>\n",
       "      <th>Machine 2</th>\n",
       "      <th>Machine 3</th>\n",
       "    </tr>\n",
       "  </thead>\n",
       "  <tbody>\n",
       "    <tr>\n",
       "      <th>Job 1</th>\n",
       "      <td>[0, 0, 0, 0, 0, 0, 0, 0, 0, 0, 0, 0, 0, 0, 0, ...</td>\n",
       "      <td>[1, 0, 0, 0, 0, 0, 0, 0, 0, 0, 0, 0, 0, 0, 0, ...</td>\n",
       "      <td>[0, 0, 0, 0, 0, 0, 0, 0, 0, 0, 0, 0, 0, 0, 0, ...</td>\n",
       "    </tr>\n",
       "    <tr>\n",
       "      <th>Job 2</th>\n",
       "      <td>[1, 0, 0, 0, 0, 0, 0, 0, 0, 0, 0, 0, 0, 0, 0, ...</td>\n",
       "      <td>[0, 0, 0, 0, 0, 0, 0, 0, 0, 0, 0, 0, 0, 0, 0, ...</td>\n",
       "      <td>[0, 0, 0, 0, 0, 0, 0, 0, 0, 0, 0, 0, 0, 0, 0, ...</td>\n",
       "    </tr>\n",
       "    <tr>\n",
       "      <th>Job 3</th>\n",
       "      <td>[0, 1, 0, 0, 0, 0, 0, 0, 0, 0, 0, 0, 0, 0, 0, ...</td>\n",
       "      <td>[0, 0, 0, 0, 0, 0, 0, 0, 0, 0, 0, 0, 0, 0, 0, ...</td>\n",
       "      <td>[0, 0, 0, 0, 0, 0, 0, 0, 0, 0, 0, 0, 0, 0, 0, ...</td>\n",
       "    </tr>\n",
       "    <tr>\n",
       "      <th>Job 4</th>\n",
       "      <td>[0, 0, 0, 1, 0, 0, 0, 0, 0, 0, 0, 0, 0, 0, 0, ...</td>\n",
       "      <td>[0, 0, 0, 0, 0, 0, 0, 0, 0, 0, 0, 0, 0, 0, 0, ...</td>\n",
       "      <td>[0, 0, 0, 0, 0, 0, 0, 0, 0, 0, 0, 0, 0, 0, 0, ...</td>\n",
       "    </tr>\n",
       "    <tr>\n",
       "      <th>Job 5</th>\n",
       "      <td>[0, 0, 0, 0, 0, 0, 0, 0, 0, 0, 0, 0, 0, 0, 0, ...</td>\n",
       "      <td>[0, 0, 0, 1, 0, 0, 0, 0, 0, 0, 0, 0, 0, 0, 0, ...</td>\n",
       "      <td>[0, 0, 0, 0, 0, 0, 0, 0, 0, 0, 0, 0, 0, 0, 0, ...</td>\n",
       "    </tr>\n",
       "    <tr>\n",
       "      <th>Job 6</th>\n",
       "      <td>[0, 0, 0, 0, 1, 0, 0, 0, 0, 0, 0, 0, 0, 0, 0, ...</td>\n",
       "      <td>[0, 0, 0, 0, 0, 0, 0, 0, 0, 0, 0, 0, 0, 0, 0, ...</td>\n",
       "      <td>[0, 0, 0, 0, 0, 0, 0, 0, 0, 0, 0, 0, 0, 0, 0, ...</td>\n",
       "    </tr>\n",
       "    <tr>\n",
       "      <th>Job 7</th>\n",
       "      <td>[0, 0, 0, 0, 0, 0, 0, 0, 0, 0, 0, 0, 0, 0, 0, ...</td>\n",
       "      <td>[0, 0, 0, 0, 0, 0, 0, 0, 0, 0, 0, 0, 0, 0, 0, ...</td>\n",
       "      <td>[1, 0, 0, 0, 0, 0, 0, 0, 0, 0, 0, 0, 0, 0, 0, ...</td>\n",
       "    </tr>\n",
       "  </tbody>\n",
       "</table>\n",
       "</div>\n",
       "      <button class=\"colab-df-convert\" onclick=\"convertToInteractive('df-13aed3f2-c766-493b-9476-8561e8579d8d')\"\n",
       "              title=\"Convert this dataframe to an interactive table.\"\n",
       "              style=\"display:none;\">\n",
       "        \n",
       "  <svg xmlns=\"http://www.w3.org/2000/svg\" height=\"24px\"viewBox=\"0 0 24 24\"\n",
       "       width=\"24px\">\n",
       "    <path d=\"M0 0h24v24H0V0z\" fill=\"none\"/>\n",
       "    <path d=\"M18.56 5.44l.94 2.06.94-2.06 2.06-.94-2.06-.94-.94-2.06-.94 2.06-2.06.94zm-11 1L8.5 8.5l.94-2.06 2.06-.94-2.06-.94L8.5 2.5l-.94 2.06-2.06.94zm10 10l.94 2.06.94-2.06 2.06-.94-2.06-.94-.94-2.06-.94 2.06-2.06.94z\"/><path d=\"M17.41 7.96l-1.37-1.37c-.4-.4-.92-.59-1.43-.59-.52 0-1.04.2-1.43.59L10.3 9.45l-7.72 7.72c-.78.78-.78 2.05 0 2.83L4 21.41c.39.39.9.59 1.41.59.51 0 1.02-.2 1.41-.59l7.78-7.78 2.81-2.81c.8-.78.8-2.07 0-2.86zM5.41 20L4 18.59l7.72-7.72 1.47 1.35L5.41 20z\"/>\n",
       "  </svg>\n",
       "      </button>\n",
       "      \n",
       "  <style>\n",
       "    .colab-df-container {\n",
       "      display:flex;\n",
       "      flex-wrap:wrap;\n",
       "      gap: 12px;\n",
       "    }\n",
       "\n",
       "    .colab-df-convert {\n",
       "      background-color: #E8F0FE;\n",
       "      border: none;\n",
       "      border-radius: 50%;\n",
       "      cursor: pointer;\n",
       "      display: none;\n",
       "      fill: #1967D2;\n",
       "      height: 32px;\n",
       "      padding: 0 0 0 0;\n",
       "      width: 32px;\n",
       "    }\n",
       "\n",
       "    .colab-df-convert:hover {\n",
       "      background-color: #E2EBFA;\n",
       "      box-shadow: 0px 1px 2px rgba(60, 64, 67, 0.3), 0px 1px 3px 1px rgba(60, 64, 67, 0.15);\n",
       "      fill: #174EA6;\n",
       "    }\n",
       "\n",
       "    [theme=dark] .colab-df-convert {\n",
       "      background-color: #3B4455;\n",
       "      fill: #D2E3FC;\n",
       "    }\n",
       "\n",
       "    [theme=dark] .colab-df-convert:hover {\n",
       "      background-color: #434B5C;\n",
       "      box-shadow: 0px 1px 3px 1px rgba(0, 0, 0, 0.15);\n",
       "      filter: drop-shadow(0px 1px 2px rgba(0, 0, 0, 0.3));\n",
       "      fill: #FFFFFF;\n",
       "    }\n",
       "  </style>\n",
       "\n",
       "      <script>\n",
       "        const buttonEl =\n",
       "          document.querySelector('#df-13aed3f2-c766-493b-9476-8561e8579d8d button.colab-df-convert');\n",
       "        buttonEl.style.display =\n",
       "          google.colab.kernel.accessAllowed ? 'block' : 'none';\n",
       "\n",
       "        async function convertToInteractive(key) {\n",
       "          const element = document.querySelector('#df-13aed3f2-c766-493b-9476-8561e8579d8d');\n",
       "          const dataTable =\n",
       "            await google.colab.kernel.invokeFunction('convertToInteractive',\n",
       "                                                     [key], {});\n",
       "          if (!dataTable) return;\n",
       "\n",
       "          const docLinkHtml = 'Like what you see? Visit the ' +\n",
       "            '<a target=\"_blank\" href=https://colab.research.google.com/notebooks/data_table.ipynb>data table notebook</a>'\n",
       "            + ' to learn more about interactive tables.';\n",
       "          element.innerHTML = '';\n",
       "          dataTable['output_type'] = 'display_data';\n",
       "          await google.colab.output.renderOutput(dataTable, element);\n",
       "          const docLink = document.createElement('div');\n",
       "          docLink.innerHTML = docLinkHtml;\n",
       "          element.appendChild(docLink);\n",
       "        }\n",
       "      </script>\n",
       "    </div>\n",
       "  </div>\n",
       "  "
      ],
      "text/plain": [
       "                                               Machine 1  \\\n",
       "Job 1  [0, 0, 0, 0, 0, 0, 0, 0, 0, 0, 0, 0, 0, 0, 0, ...   \n",
       "Job 2  [1, 0, 0, 0, 0, 0, 0, 0, 0, 0, 0, 0, 0, 0, 0, ...   \n",
       "Job 3  [0, 1, 0, 0, 0, 0, 0, 0, 0, 0, 0, 0, 0, 0, 0, ...   \n",
       "Job 4  [0, 0, 0, 1, 0, 0, 0, 0, 0, 0, 0, 0, 0, 0, 0, ...   \n",
       "Job 5  [0, 0, 0, 0, 0, 0, 0, 0, 0, 0, 0, 0, 0, 0, 0, ...   \n",
       "Job 6  [0, 0, 0, 0, 1, 0, 0, 0, 0, 0, 0, 0, 0, 0, 0, ...   \n",
       "Job 7  [0, 0, 0, 0, 0, 0, 0, 0, 0, 0, 0, 0, 0, 0, 0, ...   \n",
       "\n",
       "                                               Machine 2  \\\n",
       "Job 1  [1, 0, 0, 0, 0, 0, 0, 0, 0, 0, 0, 0, 0, 0, 0, ...   \n",
       "Job 2  [0, 0, 0, 0, 0, 0, 0, 0, 0, 0, 0, 0, 0, 0, 0, ...   \n",
       "Job 3  [0, 0, 0, 0, 0, 0, 0, 0, 0, 0, 0, 0, 0, 0, 0, ...   \n",
       "Job 4  [0, 0, 0, 0, 0, 0, 0, 0, 0, 0, 0, 0, 0, 0, 0, ...   \n",
       "Job 5  [0, 0, 0, 1, 0, 0, 0, 0, 0, 0, 0, 0, 0, 0, 0, ...   \n",
       "Job 6  [0, 0, 0, 0, 0, 0, 0, 0, 0, 0, 0, 0, 0, 0, 0, ...   \n",
       "Job 7  [0, 0, 0, 0, 0, 0, 0, 0, 0, 0, 0, 0, 0, 0, 0, ...   \n",
       "\n",
       "                                               Machine 3  \n",
       "Job 1  [0, 0, 0, 0, 0, 0, 0, 0, 0, 0, 0, 0, 0, 0, 0, ...  \n",
       "Job 2  [0, 0, 0, 0, 0, 0, 0, 0, 0, 0, 0, 0, 0, 0, 0, ...  \n",
       "Job 3  [0, 0, 0, 0, 0, 0, 0, 0, 0, 0, 0, 0, 0, 0, 0, ...  \n",
       "Job 4  [0, 0, 0, 0, 0, 0, 0, 0, 0, 0, 0, 0, 0, 0, 0, ...  \n",
       "Job 5  [0, 0, 0, 0, 0, 0, 0, 0, 0, 0, 0, 0, 0, 0, 0, ...  \n",
       "Job 6  [0, 0, 0, 0, 0, 0, 0, 0, 0, 0, 0, 0, 0, 0, 0, ...  \n",
       "Job 7  [1, 0, 0, 0, 0, 0, 0, 0, 0, 0, 0, 0, 0, 0, 0, ...  "
      ]
     },
     "execution_count": 5,
     "metadata": {},
     "output_type": "execute_result"
    }
   ],
   "source": [
    "import pandas as pd\n",
    "import numpy as np\n",
    "from itertools import combinations, product, permutations\n",
    "\n",
    "def getClassExample(zero_index=False):\n",
    "    m = 3\n",
    "    n = 7\n",
    "    prec_dict = {1:[], 2:[], 3:[], 4: [1,3], 5:[1,2], 6:[4], 7:[]}\n",
    "    proc_dict = {1: 3, 2: 1, 3:1, 4:1, 5:5, 6:5, 7:5}\n",
    "    T = sum(proc_dict.values())\n",
    "    if zero_index:\n",
    "        prec_dict = {key-1: [i-1 for i in value] for key, value in prec_dict.items()}\n",
    "        proc_dict = {key-1: value for key, value in proc_dict.items()}\n",
    "    return m, n, T, prec_dict, proc_dict\n",
    "\n",
    "m, n, T, prec_dict, proc_dict = getClassExample()\n",
    "\n",
    "\n",
    "#n by m by T\n",
    "dp = [ [np.zeros(T).astype(int) for i in range(m)] for j in range(n) ]\n",
    "dp = pd.DataFrame( dp, columns = [f'Machine {i}' for i in range(1, m+1)], index = [f'Job {i}' for i in range(1, n+1)] )\n",
    "\n",
    "# x(a,i, t) = 1 if task a is assigned to machine i at time t\n",
    "# 0<=a<=n-1, 0<=i<=m-1, 0<=t<=T  --> due to zero indexing of python\n",
    "\n",
    "# a valid solution is:\n",
    "# x(2, 1, 0) , x(3, 1, 1), x(4, 1, 3), x(6, 1, 4)\n",
    "# x(1, 2, 0) , x(5, 2, 3),\n",
    "# x(7, 3, 0)\n",
    "for i,j,k in [ (2, 1, 0), (3, 1, 1), (4, 1, 3), (6, 1, 4), (1, 2, 0), (5, 2, 3), (7, 3, 0) ]:\n",
    "    dp.iloc[i-1,j-1][k] = 1\n",
    "\n",
    "# I did A LOT of debugging:\n",
    "\n",
    "# for i,j,k in [ [1,3,0], [2,2,0], [3,1,0], [4,1,1], [5,2,1], [6,1,2], [7,3,1] ]:\n",
    "#     dp.iloc[i-1,j-1][k] = 1\n",
    "# for i,j,k in [ [1,2,0], [2,1,0], [3,3,0], [4,1,1], [5,3,1], [6,1,2], [7,2,3] ]:\n",
    "#     dp.iloc[i-1,j-1][k] = 1\n",
    "# arr = [ [0,1,0], [1,0,0], [2,2,0], [3,0,1], [4,1,3], [5,0,2], [6,2,1] ]\n",
    "# arr = [[1, 2, 0], [2, 1, 0], [3, 3, 0], [4, 1, 1], [5, 2, 3], [6, 1, 2], [7, 3, 1]]\n",
    "# arr = [ [i+1, j+1, k] for i,j,k in arr ]\n",
    "# for i,j,k in [[1, 2, 0], [2, 1, 0], [3, 3, 0], [4, 1, 1], [5, 2, 3], [6, 1, 2], [7, 3, 1]]:\n",
    "#     dp.iloc[i-1,j-1][k] = 1\n",
    "\n",
    "dp"
   ]
  },
  {
   "cell_type": "markdown",
   "metadata": {
    "id": "FXzVeJagTi-Y"
   },
   "source": [
    "Our first constraint is that each job can only be assigned to exactly one machine.  This is equivalent to the following constraint:\n",
    "$$ \\sum_{i=1}^m \\sum_{t=0}^T X_{ait} = 1 \\quad \\forall a \\in \\{1, 2, \\dots, n\\} $$"
   ]
  },
  {
   "cell_type": "code",
   "execution_count": 6,
   "metadata": {
    "colab": {
     "base_uri": "https://localhost:8080/"
    },
    "id": "xw-3HD8hzX5T",
    "outputId": "c3821f5b-f82e-4814-d4bb-4fd5ed78375d"
   },
   "outputs": [
    {
     "data": {
      "text/plain": [
       "Job 1    1\n",
       "Job 2    1\n",
       "Job 3    1\n",
       "Job 4    1\n",
       "Job 5    1\n",
       "Job 6    1\n",
       "Job 7    1\n",
       "dtype: int64"
      ]
     },
     "execution_count": 6,
     "metadata": {},
     "output_type": "execute_result"
    }
   ],
   "source": [
    "#1. If this loop prints, then each job is not assigned to one machine\n",
    "for a in range(n):\n",
    "    arr = dp.iloc[a].to_numpy() # m by T\n",
    "    if sum( arr[i][t] for i in range(m) for t in range(T) ) != 1:\n",
    "        print('Each job can only be assigned to one machine at one time')\n",
    "\n",
    "# check row sum of dp should all be 1 for each entry\n",
    "dp.sum(axis=1).apply( lambda x: sum(x) )"
   ]
  },
  {
   "cell_type": "markdown",
   "metadata": {
    "id": "P8jlkDGqVK_7"
   },
   "source": [
    "Our second constraint is that for every machine at time t, it can be assigned at most one job.  This is equivalent to the following:\n",
    "\n",
    "$$ \\sum_{a=1}^n X_{ait} \\leq 1 \\quad \\forall i \\in \\{1, 2, \\dots, m\\}, \\forall t \\in \\{0, 1, \\dots, T\\} $$"
   ]
  },
  {
   "cell_type": "code",
   "execution_count": 7,
   "metadata": {
    "colab": {
     "base_uri": "https://localhost:8080/"
    },
    "id": "y8OdYGCbUysd",
    "outputId": "349cff7e-ea62-423d-dfc5-f828cc1cc21d"
   },
   "outputs": [
    {
     "data": {
      "text/plain": [
       "Machine 1    [1, 1, 0, 1, 1, 0, 0, 0, 0, 0, 0, 0, 0, 0, 0, 0, 0, 0, 0, 0, 0]\n",
       "Machine 2    [1, 0, 0, 1, 0, 0, 0, 0, 0, 0, 0, 0, 0, 0, 0, 0, 0, 0, 0, 0, 0]\n",
       "Machine 3    [1, 0, 0, 0, 0, 0, 0, 0, 0, 0, 0, 0, 0, 0, 0, 0, 0, 0, 0, 0, 0]\n",
       "dtype: object"
      ]
     },
     "execution_count": 7,
     "metadata": {},
     "output_type": "execute_result"
    }
   ],
   "source": [
    "#2. If this loop prints, then each job is not assigned at most one job\n",
    "for j in range(m): \n",
    "    for t in range(T):\n",
    "        if sum(dp.iloc[a,j][t] for a in range(n) ) > 1:\n",
    "            print('for every machine at time t, it can be assigned at most one job')\n",
    "\n",
    "# column sum of dp should be <=1 for each entry\n",
    "pd.set_option('display.max_colwidth',100)\n",
    "dp.sum(axis=0)      "
   ]
  },
  {
   "cell_type": "markdown",
   "metadata": {
    "id": "x7M5qHcmYyq9"
   },
   "source": [
    "The third constraint is that for each job a' must be completed before job a can start.  Denote a ≺ a' to mean that job a must be completed before task a' can start. Denote p(a) to be the processing time of job a.  This is equivalent to the following:\n",
    "\n",
    "$$ \\sum_{i=1}^m \\sum_{t'=0}^{t-1} X_{a'it'} \\leq \\sum_{i=1}^m \\sum_{t'=0}^{t+p(a)-1} X_{ait'} \\quad \\forall a ≺ a' \\in \\{1, 2, \\dots, n\\}, \\forall t \\in \\{0, 1, \\dots, T\\} $$"
   ]
  },
  {
   "cell_type": "code",
   "execution_count": 8,
   "metadata": {
    "id": "-NHU49rTXsIn"
   },
   "outputs": [],
   "source": [
    "#3. If this loop prints, then each job a' is not completed before job a starts\n",
    "# a ≺ a_ to mean that job a must be completed before task a_ can start\n",
    "# Example: if a_ = 4, a = 1 and p(1) = 3, then \n",
    "# then sum over i, t' of x(4, i, t') <= sum over i, t' of x(1, i, t) + p(1)\n",
    "\n",
    "preceding_pairs = [ i for j in [ list(product( value, [key]) ) for key, value in prec_dict.items() ] for i in j]\n",
    "\n",
    "for a, a_ in preceding_pairs:\n",
    "    for t in range(T):\n",
    "        prev = dp.iloc[a-1].to_numpy()\n",
    "        later = dp.iloc[a_-1].to_numpy()\n",
    "        if sum( prev[i][t_] for i in range(m) for t_ in range(t)) < sum( later[i][t_] for i in range(m) for t_ in range(min(T, t + proc_dict[a])) ):\n",
    "            print(f'job {a_} cannot begin while job {a} + p({a}) = {proc_dict[a] + t}' )"
   ]
  },
  {
   "cell_type": "markdown",
   "metadata": {
    "id": "j-0Bn18keOt1"
   },
   "source": [
    "The fourth constraint is that job a cannot begin on a machine i while job a' + p(a') is still being processed on machine i.  This is equivalent to the following constraint:\n",
    "\n",
    "$$ if \\quad X_{a'it} == 1, \\quad then \\quad \\sum_{t'=t}^{t+p(a')-1} X_{a'it'} + X_{ait'} \\leq 1 \\quad \\forall perm(a, a'), \\forall i \\in \\{1, 2, \\dots, m\\}, \\forall t \\in \\{0, 1, \\dots, T\\} $$\n",
    "\n",
    "\n",
    "\n",
    "\n"
   ]
  },
  {
   "cell_type": "code",
   "execution_count": 9,
   "metadata": {
    "id": "JtsFD51ceDb4"
   },
   "outputs": [],
   "source": [
    "#4 If this loop prints, then job a began on a machine i while job a' + p(a') is still being processed on machine i\n",
    "# Example: if a = 7 and a' = 1 with p(1) = 3, then \n",
    "# x(1, i, t) + x(7, i, t) <= 1 for every i, t'<=t+3 (t' = t, t+1, t+2, t+3)\n",
    "from itertools import permutations\n",
    "jobs = list( permutations( prec_dict.keys(), 2) )\n",
    "for i in range(m):\n",
    "    for a, a_ in jobs:\n",
    "        for t in range(T):\n",
    "            if dp.iloc[a_-1,i][t] == 1:\n",
    "                arr = dp.iloc[a-1,i]\n",
    "                arr_ = dp.iloc[a_-1,i]\n",
    "                if sum( [arr[t_] + arr_[t_] for t_ in range(t, min(T, t+proc_dict[a_]))] ) > 1:\n",
    "                    print(f'job {a} cannot begin on a machine {i+1} while job {a_} + p({a_}) = {proc_dict[a_] + t}')"
   ]
  },
  {
   "cell_type": "markdown",
   "metadata": {
    "id": "EdOYciOofjp1"
   },
   "source": [
    "Our objective function is to minimize the makespan, which is the time at which the last job is completed.  The following linear objective function can minimize the makespan:\n",
    "\n",
    "$$ \\min \\sum_{a=1}^n \\sum_{i=1}^m \\sum_{t=0}^T X_{ait} \\cdot (t + p(a)) \\quad\n",
    " \\forall a \\in \\{1, 2, \\dots, n\\}, \\forall i \\in \\{1, 2, \\dots, m\\}, \\forall t \\in \\{0, 1, \\dots, T\\} $$\n",
    "\n",
    "Let's calculate our makespan (should be 9) and objective function value"
   ]
  },
  {
   "cell_type": "code",
   "execution_count": 10,
   "metadata": {
    "colab": {
     "base_uri": "https://localhost:8080/"
    },
    "id": "6sLm89clfkRQ",
    "outputId": "6ef071d9-b7a8-4b3f-8d14-cfbb7cf1acb4"
   },
   "outputs": [
    {
     "name": "stdout",
     "output_type": "stream",
     "text": [
      "Makespan: 9\n",
      "Objective Function Value: 32\n"
     ]
    }
   ],
   "source": [
    "objectiveFunction = 0\n",
    "makespan = float('-inf')\n",
    "for i in range(n):\n",
    "    for j in range(m):\n",
    "        for t in range(T):\n",
    "            if dp.iloc[i,j][t] == 1:\n",
    "                objectiveFunction += t + proc_dict[i + 1]\n",
    "                makespan = max(makespan, t + proc_dict[i + 1])\n",
    "    \n",
    "print('Makespan:', makespan)\n",
    "print('Objective Function Value:', objectiveFunction)"
   ]
  },
  {
   "cell_type": "markdown",
   "metadata": {
    "id": "dK5UJWqvmoVS"
   },
   "source": [
    "# Putting everything together! Note: 500 jobs took too long (sorry!)\n",
    "\n",
    "10 jobs completes instantly, however, when I try 100, I run out of RAM (which is expected, as my formulation has O(n*m*T) variables"
   ]
  },
  {
   "cell_type": "code",
   "execution_count": 11,
   "metadata": {
    "colab": {
     "base_uri": "https://localhost:8080/"
    },
    "id": "VcQcWcfXsQGp",
    "outputId": "25b0feaf-e9a7-418f-a870-6faf0a5236fe"
   },
   "outputs": [
    {
     "name": "stdout",
     "output_type": "stream",
     "text": [
      "Gurobi Optimizer version 9.5.2 build v9.5.2rc0 (linux64)\n",
      "Thread count: 1 physical cores, 2 logical processors, using up to 2 threads\n",
      "Academic license - for non-commercial use only - registered to klt45@cornell.edu\n",
      "Optimize a model with 2098 rows, 1160 columns and 252084 nonzeros\n",
      "Model fingerprint: 0xd548b1ef\n",
      "Model has 10440 general constraints\n",
      "Variable types: 0 continuous, 1160 integer (1160 binary)\n",
      "Coefficient statistics:\n",
      "  Matrix range     [1e+00, 1e+00]\n",
      "  Objective range  [2e+00, 7e+01]\n",
      "  Bounds range     [1e+00, 1e+00]\n",
      "  RHS range        [1e+00, 1e+00]\n",
      "  GenCon rhs range [1e+00, 1e+00]\n",
      "  GenCon coe range [1e+00, 1e+00]\n",
      "Presolve removed 1553 rows and 778 columns\n",
      "Presolve time: 0.91s\n",
      "Presolved: 545 rows, 382 columns, 7230 nonzeros\n",
      "Variable types: 0 continuous, 382 integer (382 binary)\n",
      "Found heuristic solution: objective 365.0000000\n",
      "\n",
      "Root relaxation: objective 2.620000e+02, 95 iterations, 0.00 seconds (0.00 work units)\n",
      "\n",
      "    Nodes    |    Current Node    |     Objective Bounds      |     Work\n",
      " Expl Unexpl |  Obj  Depth IntInf | Incumbent    BestBd   Gap | It/Node Time\n",
      "\n",
      "*    0     0               0     262.0000000  262.00000  0.00%     -    0s\n",
      "\n",
      "Explored 1 nodes (95 simplex iterations) in 0.99 seconds (0.84 work units)\n",
      "Thread count was 2 (of 2 available processors)\n",
      "\n",
      "Solution count 2: 262 365 \n",
      "\n",
      "Optimal solution found (tolerance 1.00e-04)\n",
      "Best objective 2.620000000000e+02, best bound 2.620000000000e+02, gap 0.0000%\n",
      "Optimal objective: 262\n",
      "Optimal solution:\n",
      "x_ait[0,1,0] 1\n",
      "x_ait[1,0,0] 1\n",
      "x_ait[2,0,10] 1\n",
      "x_ait[3,0,13] 1\n",
      "x_ait[4,0,19] 1\n",
      "x_ait[5,1,27] 1\n",
      "x_ait[6,0,27] 1\n",
      "x_ait[7,0,33] 1\n",
      "x_ait[8,0,35] 1\n",
      "x_ait[9,0,40] 1\n",
      "makespan: 45\n"
     ]
    }
   ],
   "source": [
    "import gurobipy as gp\n",
    "from gurobipy import GRB\n",
    "\n",
    "df=pd.read_csv('sched_med_proc_times.csv', header=None)\n",
    "df2=pd.read_csv('schedmed_prec.csv') # precedence constraints\n",
    "n=10#df.shape[0]          # Number of Jobs\n",
    "m=2            # Number of machines\n",
    "prec_dict={}  # Should have keys 1....N and each key is mapped to the set of preceding jobs. \n",
    "proc_dict={} # Same keys as prec_dict, but mapped to processing times instead.\n",
    "T= df.iloc[:n, 1].sum()\n",
    "for j in range(n):\n",
    "    proc_dict[j]=df.iloc[j,1]\n",
    "    prec_dict[j]=list(df2.iloc[j].dropna().to_numpy() -1 )[1:]\n",
    "\n",
    "def Scheduling(m,n,prec_dict,proc_dict,T):\n",
    "    \"\"\"\n",
    "    Parameters\n",
    "    ----------\n",
    "    m : int - number of machines\n",
    "    n : int - number of jobs\n",
    "    prec_dict : dictionary - keys are jobs, values are the set of jobs that must be completed before the key job can start\n",
    "    Example: prec_dict[3] = [1,2] means that jobs 1 and 2 must be completed before job 3 can start\n",
    "    proc_dict : dictionary - keys are jobs, values are the processing times of the jobs\n",
    "    Example: proc_dict[3] = 5 means that job 3 takes 5 time units to complete\n",
    "    T : int - upper bound on the makespan\n",
    "    \"\"\"\n",
    "\n",
    "    model = gp.Model(env=e)\n",
    "    list_of_ait = list(product(range(n), range(m), range(T)))\n",
    "\n",
    "    x_ait = model.addVars(list_of_ait, vtype=GRB.BINARY, name=\"x_ait\")\n",
    "\n",
    "    #1. each job can only be assigned to one machine at one time\n",
    "    model.addConstrs( \n",
    "        gp.quicksum(x_ait[a,i,t] for i in range(m) for t in range(T)) == 1 for a in range(n) \n",
    "        )\n",
    "\n",
    "    #2. for every machine at time t, it can be assigned at most one job\n",
    "    model.addConstrs(\n",
    "        gp.quicksum(x_ait[a,i,t] for a in range(n)) <= 1 for i in range(m) for t in range(T)\n",
    "        )\n",
    "\n",
    "    #3. for each job a' must be completed before job a can start\n",
    "    # a ≺ a_ to mean that job a must be completed before task a_ can start\n",
    "    preceding_pairs = [ i for j in [ list(product( value, [key]) ) for key, value in prec_dict.items() ] for i in j]\n",
    "    for a, a_ in preceding_pairs:\n",
    "        for t in range(T):\n",
    "            model.addConstr(\n",
    "                gp.quicksum(x_ait[a,i,t_] for i in range(m) for t_ in range(t)) >= gp.quicksum(x_ait[a_,i,t_] for i in range(m) for t_ in range(min(T, t + proc_dict[a])))\n",
    "                )\n",
    "\n",
    "    #4. job a cannot begin on a machine i while job a' + p(a') is still being processed on machine i\n",
    "    jobs = list(permutations(range(n), 2))\n",
    "    model.addConstrs(\n",
    "        ( (x_ait[a_,i,t] == 1) >> ( gp.quicksum( x_ait[a,i,t_] + x_ait[a_,i,t_] for t_ in range(t, min(T, t+proc_dict[a_])) ) <= 1 ) ) for a, a_ in jobs for i in range(m) for t in range(T)\n",
    "    )\n",
    "\n",
    "\n",
    "    model.setObjective(gp.quicksum( x_ait[a,i,t] * (t+ proc_dict[a]) for a in range(n) for i in range(m) for t in range(T) ), GRB.MINIMIZE) \n",
    "\n",
    "    model.optimize()\n",
    "\n",
    "    if model.status == GRB.Status.OPTIMAL:\n",
    "        print('Optimal objective: %g' % model.objVal)\n",
    "        makespan = float('-inf')\n",
    "        print('Optimal solution:')\n",
    "        for v in model.getVars():\n",
    "            if v.x > 0:\n",
    "                print('%s %g' % (v.varName, v.x))\n",
    "                makespan = max(makespan, int(v.varName.split('[')[1].split(']')[0].split(',')[2]) + proc_dict[int(v.varName.split('[')[1].split(']')[0].split(',')[0])])\n",
    "        print(f'makespan: {makespan}')\n",
    "    else:\n",
    "        print('No solution')\n",
    "\n",
    "Scheduling(m,n,prec_dict,proc_dict,T)\n",
    "\n"
   ]
  },
  {
   "cell_type": "code",
   "execution_count": 12,
   "metadata": {
    "colab": {
     "base_uri": "https://localhost:8080/"
    },
    "id": "_mv0PF3xhKVx",
    "outputId": "aba71833-9a6c-4888-a6d0-d4db7fa6edd2"
   },
   "outputs": [
    {
     "name": "stdout",
     "output_type": "stream",
     "text": [
      "Gurobi Optimizer version 9.5.2 build v9.5.2rc0 (linux64)\n",
      "Thread count: 1 physical cores, 2 logical processors, using up to 2 threads\n",
      "Academic license - for non-commercial use only - registered to klt45@cornell.edu\n",
      "Optimize a model with 175 rows, 441 columns and 7731 nonzeros\n",
      "Model fingerprint: 0xfe69a4a1\n",
      "Model has 2646 general constraints\n",
      "Variable types: 0 continuous, 441 integer (441 binary)\n",
      "Coefficient statistics:\n",
      "  Matrix range     [1e+00, 1e+00]\n",
      "  Objective range  [1e+00, 2e+01]\n",
      "  Bounds range     [1e+00, 1e+00]\n",
      "  RHS range        [1e+00, 1e+00]\n",
      "  GenCon rhs range [1e+00, 1e+00]\n",
      "  GenCon coe range [1e+00, 1e+00]\n",
      "Presolve added 321 rows and 0 columns\n",
      "Presolve removed 0 rows and 54 columns\n",
      "Presolve time: 0.10s\n",
      "Presolved: 496 rows, 387 columns, 9354 nonzeros\n",
      "Variable types: 0 continuous, 387 integer (387 binary)\n",
      "Found heuristic solution: objective 66.0000000\n",
      "Found heuristic solution: objective 37.0000000\n",
      "\n",
      "Root relaxation: objective 3.200000e+01, 19 iterations, 0.00 seconds (0.00 work units)\n",
      "\n",
      "    Nodes    |    Current Node    |     Objective Bounds      |     Work\n",
      " Expl Unexpl |  Obj  Depth IntInf | Incumbent    BestBd   Gap | It/Node Time\n",
      "\n",
      "*    0     0               0      32.0000000   32.00000  0.00%     -    0s\n",
      "\n",
      "Explored 1 nodes (19 simplex iterations) in 0.16 seconds (0.11 work units)\n",
      "Thread count was 2 (of 2 available processors)\n",
      "\n",
      "Solution count 3: 32 37 66 \n",
      "\n",
      "Optimal solution found (tolerance 1.00e-04)\n",
      "Best objective 3.200000000000e+01, best bound 3.200000000000e+01, gap 0.0000%\n",
      "Optimal objective: 32\n",
      "Optimal solution:\n",
      "x_ait[0,1,0] 1\n",
      "x_ait[1,0,0] 1\n",
      "x_ait[2,2,0] 1\n",
      "x_ait[3,1,3] 1\n",
      "x_ait[4,0,3] 1\n",
      "x_ait[5,1,4] 1\n",
      "x_ait[6,2,1] 1\n",
      "makespan: 9\n"
     ]
    }
   ],
   "source": [
    "# With the class example!  Our objective should be 32 (9 is the minimum makespan)\n",
    "m, n, T, prec_dict, proc_dict = getClassExample(zero_index=True)\n",
    "Scheduling(m,n,prec_dict,proc_dict,T)"
   ]
  }
 ],
 "metadata": {
  "accelerator": "GPU",
  "colab": {
   "provenance": []
  },
  "gpuClass": "standard",
  "kernelspec": {
   "display_name": "Python 3 (ipykernel)",
   "language": "python",
   "name": "python3"
  },
  "language_info": {
   "codemirror_mode": {
    "name": "ipython",
    "version": 3
   },
   "file_extension": ".py",
   "mimetype": "text/x-python",
   "name": "python",
   "nbconvert_exporter": "python",
   "pygments_lexer": "ipython3",
   "version": "3.9.1"
  }
 },
 "nbformat": 4,
 "nbformat_minor": 1
}
